{
 "cells": [
  {
   "cell_type": "markdown",
   "metadata": {
    "id": "gzcZH5rWrbAx"
   },
   "source": [
    "# Support Vector Machines \n",
    "## Group Project - Fraud in Wine \n",
    "\n",
    "***\n",
    "Due: 11:59PM, April 13, 2021\n",
    "\n",
    "Files to submit:\n",
    "1. .ipynb\n",
    "2. a .pdf of your .ipynb\n",
    "\n",
    "### Student Name: Chrisna Arie, Edwin Firmansyah, Sam Diab, Mouhamed Jaber\n",
    "### Student Number: 58104399, 90320219, 13888318, 79588974\n",
    "### Group: L2A Group 4\n",
    "\n",
    "***\n",
    "## Project Background\n",
    "\n",
    "Wine fraud relates to the commercial aspects of wine. The most prevalent type of fraud is one where wines are adulterated, usually with the addition of cheaper products (e.g. juices) and sometimes with harmful chemicals and sweeteners (compensating for color or flavor). Another common type of wine fraud involves counterfeiting by relabeling of infeior and cheaper wines to more expensive brands. \n",
    "\n",
    "\n",
    "## Project Goals\n",
    "\n",
    "A distribution company that was recently a victim of fraud has completed an audit of various samples of wine through the use of chemical analysis on samples. The distribution company specializes in exporting extremely high quality, expensive wines, but was defrauded by a supplier who was attempting to pass off cheap, low quality wine as higher grade wine. The distribution company has hired you to attempt to create a machine learning model that can help detect low quality (a.k.a \"fraud\") wine samples. They want to know if it is even possible to detect such a difference.\n",
    "\n",
    "\n",
    "Data Source: *P. Cortez, A. Cerdeira, F. Almeida, T. Matos and J. Reis. Modeling wine preferences by data mining from physicochemical properties.\n",
    "In Decision Support Systems, Elsevier, 47(4):547-553, 2009.*\n",
    "\n",
    "---\n",
    "---\n",
    "\n",
    "**Overall Goal: Your overall goal is to use the wine dataset shown below to develop a support vector machine (SVM) model that attempts to predict if a wine is \"Legit\" or \"Fraud\" based on various chemical features.**\n",
    "\n",
    "**Complete the 12 questioins below to follow along with the project.**\n",
    "\n",
    "---\n",
    "---"
   ]
  },
  {
   "cell_type": "markdown",
   "metadata": {
    "id": "79Dcsk_GrbA1"
   },
   "source": [
    "##  Explore the data: Complete the Question 1-Question 5\n",
    "\n",
    "**Run the cells below to import the libraries and load the dataset.**"
   ]
  },
  {
   "cell_type": "code",
   "execution_count": null,
   "metadata": {
    "id": "k2Pgbl7erbA2"
   },
   "outputs": [],
   "source": [
    "import numpy as np\n",
    "import pandas as pd\n",
    "import seaborn as sns\n",
    "import matplotlib.pyplot as plt"
   ]
  },
  {
   "cell_type": "code",
   "execution_count": null,
   "metadata": {
    "id": "6T18u1h6rbA4"
   },
   "outputs": [],
   "source": [
    "df = pd.read_csv(\"wine_fraud.csv\")"
   ]
  },
  {
   "cell_type": "code",
   "execution_count": null,
   "metadata": {
    "colab": {
     "base_uri": "https://localhost:8080/",
     "height": 195
    },
    "id": "0cjHkjdArbA4",
    "outputId": "5d1417bc-80ad-43ad-b4f9-edfcc8e36dd9"
   },
   "outputs": [
    {
     "data": {
      "text/html": [
       "<div>\n",
       "<style scoped>\n",
       "    .dataframe tbody tr th:only-of-type {\n",
       "        vertical-align: middle;\n",
       "    }\n",
       "\n",
       "    .dataframe tbody tr th {\n",
       "        vertical-align: top;\n",
       "    }\n",
       "\n",
       "    .dataframe thead th {\n",
       "        text-align: right;\n",
       "    }\n",
       "</style>\n",
       "<table border=\"1\" class=\"dataframe\">\n",
       "  <thead>\n",
       "    <tr style=\"text-align: right;\">\n",
       "      <th></th>\n",
       "      <th>fixed acidity</th>\n",
       "      <th>volatile acidity</th>\n",
       "      <th>citric acid</th>\n",
       "      <th>residual sugar</th>\n",
       "      <th>chlorides</th>\n",
       "      <th>free sulfur dioxide</th>\n",
       "      <th>total sulfur dioxide</th>\n",
       "      <th>density</th>\n",
       "      <th>pH</th>\n",
       "      <th>sulphates</th>\n",
       "      <th>alcohol</th>\n",
       "      <th>quality</th>\n",
       "      <th>type</th>\n",
       "    </tr>\n",
       "  </thead>\n",
       "  <tbody>\n",
       "    <tr>\n",
       "      <th>0</th>\n",
       "      <td>7.4</td>\n",
       "      <td>0.70</td>\n",
       "      <td>0.00</td>\n",
       "      <td>1.9</td>\n",
       "      <td>0.076</td>\n",
       "      <td>11.0</td>\n",
       "      <td>34.0</td>\n",
       "      <td>0.9978</td>\n",
       "      <td>3.51</td>\n",
       "      <td>0.56</td>\n",
       "      <td>9.4</td>\n",
       "      <td>Legit</td>\n",
       "      <td>red</td>\n",
       "    </tr>\n",
       "    <tr>\n",
       "      <th>1</th>\n",
       "      <td>7.8</td>\n",
       "      <td>0.88</td>\n",
       "      <td>0.00</td>\n",
       "      <td>2.6</td>\n",
       "      <td>0.098</td>\n",
       "      <td>25.0</td>\n",
       "      <td>67.0</td>\n",
       "      <td>0.9968</td>\n",
       "      <td>3.20</td>\n",
       "      <td>0.68</td>\n",
       "      <td>9.8</td>\n",
       "      <td>Legit</td>\n",
       "      <td>red</td>\n",
       "    </tr>\n",
       "    <tr>\n",
       "      <th>2</th>\n",
       "      <td>7.8</td>\n",
       "      <td>0.76</td>\n",
       "      <td>0.04</td>\n",
       "      <td>2.3</td>\n",
       "      <td>0.092</td>\n",
       "      <td>15.0</td>\n",
       "      <td>54.0</td>\n",
       "      <td>0.9970</td>\n",
       "      <td>3.26</td>\n",
       "      <td>0.65</td>\n",
       "      <td>9.8</td>\n",
       "      <td>Legit</td>\n",
       "      <td>red</td>\n",
       "    </tr>\n",
       "    <tr>\n",
       "      <th>3</th>\n",
       "      <td>11.2</td>\n",
       "      <td>0.28</td>\n",
       "      <td>0.56</td>\n",
       "      <td>1.9</td>\n",
       "      <td>0.075</td>\n",
       "      <td>17.0</td>\n",
       "      <td>60.0</td>\n",
       "      <td>0.9980</td>\n",
       "      <td>3.16</td>\n",
       "      <td>0.58</td>\n",
       "      <td>9.8</td>\n",
       "      <td>Legit</td>\n",
       "      <td>red</td>\n",
       "    </tr>\n",
       "    <tr>\n",
       "      <th>4</th>\n",
       "      <td>7.4</td>\n",
       "      <td>0.70</td>\n",
       "      <td>0.00</td>\n",
       "      <td>1.9</td>\n",
       "      <td>0.076</td>\n",
       "      <td>11.0</td>\n",
       "      <td>34.0</td>\n",
       "      <td>0.9978</td>\n",
       "      <td>3.51</td>\n",
       "      <td>0.56</td>\n",
       "      <td>9.4</td>\n",
       "      <td>Legit</td>\n",
       "      <td>red</td>\n",
       "    </tr>\n",
       "  </tbody>\n",
       "</table>\n",
       "</div>"
      ],
      "text/plain": [
       "   fixed acidity  volatile acidity  citric acid  ...  alcohol  quality  type\n",
       "0            7.4              0.70         0.00  ...      9.4    Legit   red\n",
       "1            7.8              0.88         0.00  ...      9.8    Legit   red\n",
       "2            7.8              0.76         0.04  ...      9.8    Legit   red\n",
       "3           11.2              0.28         0.56  ...      9.8    Legit   red\n",
       "4            7.4              0.70         0.00  ...      9.4    Legit   red\n",
       "\n",
       "[5 rows x 13 columns]"
      ]
     },
     "execution_count": 3,
     "metadata": {
      "tags": []
     },
     "output_type": "execute_result"
    }
   ],
   "source": [
    "df.head()"
   ]
  },
  {
   "cell_type": "markdown",
   "metadata": {
    "id": "g6s687JJrbA6"
   },
   "source": [
    "In the above dataset, the column of \"quality\" is the target column we are trying to predict. The values in the \"quality\" column are often called labels in supervised learning. To explore the labelled values in the \"quality\" column, we can use [`pandas.unique()`](https://pandas.pydata.org/docs/reference/api/pandas.unique.html) to find out the unique values in the \"quality\" column.\n",
    "\n",
    "**Question 1:<br> What are the unique values in the target column we are trying to predict (i.e.,the \"quality\" column)?**\n",
    "\n",
    "Note: \n",
    "* Documentation link: [pandas.unique()](https://pandas.pydata.org/docs/reference/api/pandas.unique.html)"
   ]
  },
  {
   "cell_type": "code",
   "execution_count": null,
   "metadata": {
    "colab": {
     "base_uri": "https://localhost:8080/"
    },
    "id": "-FOffR8ArbA7",
    "outputId": "96b8c5db-fa85-4e12-d98e-480ef067c6bc"
   },
   "outputs": [
    {
     "name": "stdout",
     "output_type": "stream",
     "text": [
      "There are 2 unique classes in the Quality column which are:\n",
      "1.Legit\n",
      "2.Fraud\n"
     ]
    }
   ],
   "source": [
    "# code here:\n",
    "\n",
    "unique_classes = pd.unique(df['quality'])\n",
    "\n",
    "print(f'There are {len(unique_classes)} unique classes in the Quality column which are:')\n",
    "\n",
    "for i in range(len(unique_classes)):\n",
    "  print(str(i+1), unique_classes[i], sep='.')"
   ]
  },
  {
   "cell_type": "markdown",
   "metadata": {
    "id": "jjD3odF4rbA8"
   },
   "source": [
    "**Question 2: <br>\n",
    "Create a histogram (or countplot) to display the count per category of \"Legit\" vs \"Fraud\" in the column of \"quality\"**\n",
    "\n",
    "According to your plot, think about the question: is the label/target balanced or unbalanced?\n",
    "\n",
    "Note: \n",
    "* Use `seaborn.countplot()` to plot. \n",
    "* Documentation link: [seaborn.countplot()](https://seaborn.pydata.org/generated/seaborn.countplot.html)"
   ]
  },
  {
   "cell_type": "code",
   "execution_count": null,
   "metadata": {
    "colab": {
     "base_uri": "https://localhost:8080/",
     "height": 302
    },
    "id": "OycAuqBWrbA9",
    "outputId": "2b376e20-9b82-4710-fbe8-ed93e10398a6"
   },
   "outputs": [
    {
     "data": {
      "text/plain": [
       "<matplotlib.axes._subplots.AxesSubplot at 0x7f19df83bc10>"
      ]
     },
     "execution_count": 5,
     "metadata": {
      "tags": []
     },
     "output_type": "execute_result"
    },
    {
     "data": {
      "image/png": "[encoded data removed]",
      "text/plain": [
       "<Figure size 432x288 with 1 Axes>"
      ]
     },
     "metadata": {
      "tags": []
     },
     "output_type": "display_data"
    }
   ],
   "source": [
    "# code here:\n",
    "\n",
    "sns.set_theme(style=\"darkgrid\")\n",
    "sns.countplot(x=\"quality\", data=df) "
   ]
  },
  {
   "cell_type": "markdown",
   "metadata": {
    "id": "MXtDnkUfSzNV"
   },
   "source": [
    "This code compares the number of legit and fraud wines found in the data set it appears that the count for each label is unbalanced and there are more legitimate wines than fraudulent wines."
   ]
  },
  {
   "cell_type": "markdown",
   "metadata": {
    "id": "AR_CdqmjrbA9"
   },
   "source": [
    "**Question 3: <br> Let's find out if there is a difference between red and white wine in terms of \"Fraud\" vs. \"Legit\" of the quality.<br> Create a histogram (or countplot) that has the wine \"type\" on the x axis with the \"hue\" separating columns by \"Fraud\" vs. \"Legit\".**\n",
    "\n",
    "Note: \n",
    "* Use `seaborn.countplot()` to plot.\n",
    "* Documentation link: [seaborn.countplot()](https://seaborn.pydata.org/generated/seaborn.countplot.html)\n",
    "* The argument `x` axis should be the wine 'type', and the argument `hue` should be the wine 'quality' separating columns by \"Fraud\" vs \"Legit\"."
   ]
  },
  {
   "cell_type": "code",
   "execution_count": null,
   "metadata": {
    "colab": {
     "base_uri": "https://localhost:8080/",
     "height": 302
    },
    "id": "ilMCMhVQrbA-",
    "outputId": "4867ab43-c53f-4397-8846-158f4e03d8ea"
   },
   "outputs": [
    {
     "data": {
      "text/plain": [
       "<matplotlib.axes._subplots.AxesSubplot at 0x7f19df7407d0>"
      ]
     },
     "execution_count": 6,
     "metadata": {
      "tags": []
     },
     "output_type": "execute_result"
    },
    {
     "data": {
      "image/png": "[encoded data removed]",
      "text/plain": [
       "<Figure size 432x288 with 1 Axes>"
      ]
     },
     "metadata": {
      "tags": []
     },
     "output_type": "display_data"
    }
   ],
   "source": [
    "# code here:\n",
    "\n",
    "sns.set_theme(style=\"darkgrid\")\n",
    "sns.countplot(x=\"type\", hue=\"quality\", data=df) "
   ]
  },
  {
   "cell_type": "markdown",
   "metadata": {
    "id": "x0amERioSn7P"
   },
   "source": [
    "Observations are that:\n",
    "1. There appeas to be more white wines in total in the dataset compared to red wines\n",
    "2. There are less fraudulent red wines compared to white wines\n",
    "3. There are less legitimate red wines compared to white wines"
   ]
  },
  {
   "cell_type": "markdown",
   "metadata": {
    "id": "cGKIsxW3rbA_"
   },
   "source": [
    "**Question 4:<br> What percentage of red wines are Fraud? What percentage of white wines are fraud?**\n",
    "\n",
    "Note: \n",
    "* A part of code has been given below.\n",
    "* Calculate the fraud percentages in read wines and while wines.\n",
    "* Print out the results in the following format:<br>\n",
    "    * `Percentage of fraud in Red Wines is :`\n",
    "    * `Percentage of fraud in White Wines is :`"
   ]
  },
  {
   "cell_type": "code",
   "execution_count": null,
   "metadata": {
    "id": "3pIwLukJrbA_"
   },
   "outputs": [],
   "source": [
    "reds = df[df[\"type\"]=='red']\n",
    "Fraud_reds = reds[reds['quality']=='Fraud']"
   ]
  },
  {
   "cell_type": "code",
   "execution_count": null,
   "metadata": {
    "id": "8MTtB5T6rbBA"
   },
   "outputs": [],
   "source": [
    "whites = df[df[\"type\"]=='white']\n",
    "Fraud_whites = whites[whites['quality']=='Fraud']"
   ]
  },
  {
   "cell_type": "code",
   "execution_count": null,
   "metadata": {
    "colab": {
     "base_uri": "https://localhost:8080/"
    },
    "id": "ixlgbwbprbBA",
    "outputId": "2e7ee3f3-d279-44b1-bcf4-806e1e3db46e"
   },
   "outputs": [
    {
     "name": "stdout",
     "output_type": "stream",
     "text": [
      "Percentage of fraud in Red Wines is : 3.94%\n",
      "Percentage of fraud in White Wines is : 3.74%\n"
     ]
    }
   ],
   "source": [
    "# code here:\n",
    "Percent_Fraud_reds_to_reds = len(Fraud_reds)/len(reds)*100\n",
    "Percent_Fraud_whites_to_whites = len(Fraud_whites)/len(whites)*100\n",
    "\n",
    "print(f'Percentage of fraud in Red Wines is : {Percent_Fraud_reds_to_reds:.2f}%')\n",
    "print(f'Percentage of fraud in White Wines is : {Percent_Fraud_whites_to_whites:.2f}%')\n"
   ]
  },
  {
   "cell_type": "markdown",
   "metadata": {
    "id": "ewgoxuKeSdlF"
   },
   "source": [
    "This code shows that the rate of fraud in each type of wine is roughly equivalent."
   ]
  },
  {
   "cell_type": "markdown",
   "metadata": {
    "id": "KF8c3PsqrbBB"
   },
   "source": [
    "**Question 5:<br> Calculate the correlation between the various features and the \"quality\" column.**\n",
    "\n",
    "Note: \n",
    "* A part of code has been given. In the given code, we have mapped the \"quality\" string 'Legit' to 0 and the string 'Fraud' to 1. We name the new column `\"df['Fraud']\"`.\n",
    "* You can use `pandas.corr()` to calculate the whole correlation matrix, and then you can extract the `\"Fraud\"` column of the correlation matrix.\n",
    "* Documentation link: [pandas.corr( )](https://pandas.pydata.org/docs/reference/api/pandas.DataFrame.corr.html).\n",
    "\n",
    "According to the calculated correlations between the various features and the \"quality\" column, think about which feature has the most import impact on the \"quality\"."
   ]
  },
  {
   "cell_type": "code",
   "execution_count": null,
   "metadata": {
    "id": "6SKpKC2CrbBB"
   },
   "outputs": [],
   "source": [
    "# This line of code is to map the string 'Legit' to 0 and the string 'Fraud' to 1\n",
    "df['Fraud']= df['quality'].map({'Legit':0,'Fraud':1})"
   ]
  },
  {
   "cell_type": "code",
   "execution_count": null,
   "metadata": {
    "colab": {
     "base_uri": "https://localhost:8080/",
     "height": 402
    },
    "id": "g5K5jlCbrbBC",
    "outputId": "b604b04b-e9cf-480e-fe63-9d73c3b94725"
   },
   "outputs": [
    {
     "data": {
      "text/html": [
       "<div>\n",
       "<style scoped>\n",
       "    .dataframe tbody tr th:only-of-type {\n",
       "        vertical-align: middle;\n",
       "    }\n",
       "\n",
       "    .dataframe tbody tr th {\n",
       "        vertical-align: top;\n",
       "    }\n",
       "\n",
       "    .dataframe thead th {\n",
       "        text-align: right;\n",
       "    }\n",
       "</style>\n",
       "<table border=\"1\" class=\"dataframe\">\n",
       "  <thead>\n",
       "    <tr style=\"text-align: right;\">\n",
       "      <th></th>\n",
       "      <th>fixed acidity</th>\n",
       "      <th>volatile acidity</th>\n",
       "      <th>citric acid</th>\n",
       "      <th>residual sugar</th>\n",
       "      <th>chlorides</th>\n",
       "      <th>free sulfur dioxide</th>\n",
       "      <th>total sulfur dioxide</th>\n",
       "      <th>density</th>\n",
       "      <th>pH</th>\n",
       "      <th>sulphates</th>\n",
       "      <th>alcohol</th>\n",
       "      <th>Fraud</th>\n",
       "    </tr>\n",
       "  </thead>\n",
       "  <tbody>\n",
       "    <tr>\n",
       "      <th>fixed acidity</th>\n",
       "      <td>1.000000</td>\n",
       "      <td>0.219008</td>\n",
       "      <td>0.324436</td>\n",
       "      <td>-0.111981</td>\n",
       "      <td>0.298195</td>\n",
       "      <td>-0.282735</td>\n",
       "      <td>-0.329054</td>\n",
       "      <td>0.458910</td>\n",
       "      <td>-0.252700</td>\n",
       "      <td>0.299568</td>\n",
       "      <td>-0.095452</td>\n",
       "      <td>0.021794</td>\n",
       "    </tr>\n",
       "    <tr>\n",
       "      <th>volatile acidity</th>\n",
       "      <td>0.219008</td>\n",
       "      <td>1.000000</td>\n",
       "      <td>-0.377981</td>\n",
       "      <td>-0.196011</td>\n",
       "      <td>0.377124</td>\n",
       "      <td>-0.352557</td>\n",
       "      <td>-0.414476</td>\n",
       "      <td>0.271296</td>\n",
       "      <td>0.261454</td>\n",
       "      <td>0.225984</td>\n",
       "      <td>-0.037640</td>\n",
       "      <td>0.151228</td>\n",
       "    </tr>\n",
       "    <tr>\n",
       "      <th>citric acid</th>\n",
       "      <td>0.324436</td>\n",
       "      <td>-0.377981</td>\n",
       "      <td>1.000000</td>\n",
       "      <td>0.142451</td>\n",
       "      <td>0.038998</td>\n",
       "      <td>0.133126</td>\n",
       "      <td>0.195242</td>\n",
       "      <td>0.096154</td>\n",
       "      <td>-0.329808</td>\n",
       "      <td>0.056197</td>\n",
       "      <td>-0.010493</td>\n",
       "      <td>-0.061789</td>\n",
       "    </tr>\n",
       "    <tr>\n",
       "      <th>residual sugar</th>\n",
       "      <td>-0.111981</td>\n",
       "      <td>-0.196011</td>\n",
       "      <td>0.142451</td>\n",
       "      <td>1.000000</td>\n",
       "      <td>-0.128940</td>\n",
       "      <td>0.402871</td>\n",
       "      <td>0.495482</td>\n",
       "      <td>0.552517</td>\n",
       "      <td>-0.267320</td>\n",
       "      <td>-0.185927</td>\n",
       "      <td>-0.359415</td>\n",
       "      <td>-0.048756</td>\n",
       "    </tr>\n",
       "    <tr>\n",
       "      <th>chlorides</th>\n",
       "      <td>0.298195</td>\n",
       "      <td>0.377124</td>\n",
       "      <td>0.038998</td>\n",
       "      <td>-0.128940</td>\n",
       "      <td>1.000000</td>\n",
       "      <td>-0.195045</td>\n",
       "      <td>-0.279630</td>\n",
       "      <td>0.362615</td>\n",
       "      <td>0.044708</td>\n",
       "      <td>0.395593</td>\n",
       "      <td>-0.256916</td>\n",
       "      <td>0.034499</td>\n",
       "    </tr>\n",
       "    <tr>\n",
       "      <th>free sulfur dioxide</th>\n",
       "      <td>-0.282735</td>\n",
       "      <td>-0.352557</td>\n",
       "      <td>0.133126</td>\n",
       "      <td>0.402871</td>\n",
       "      <td>-0.195045</td>\n",
       "      <td>1.000000</td>\n",
       "      <td>0.720934</td>\n",
       "      <td>0.025717</td>\n",
       "      <td>-0.145854</td>\n",
       "      <td>-0.188457</td>\n",
       "      <td>-0.179838</td>\n",
       "      <td>-0.085204</td>\n",
       "    </tr>\n",
       "    <tr>\n",
       "      <th>total sulfur dioxide</th>\n",
       "      <td>-0.329054</td>\n",
       "      <td>-0.414476</td>\n",
       "      <td>0.195242</td>\n",
       "      <td>0.495482</td>\n",
       "      <td>-0.279630</td>\n",
       "      <td>0.720934</td>\n",
       "      <td>1.000000</td>\n",
       "      <td>0.032395</td>\n",
       "      <td>-0.238413</td>\n",
       "      <td>-0.275727</td>\n",
       "      <td>-0.265740</td>\n",
       "      <td>-0.035252</td>\n",
       "    </tr>\n",
       "    <tr>\n",
       "      <th>density</th>\n",
       "      <td>0.458910</td>\n",
       "      <td>0.271296</td>\n",
       "      <td>0.096154</td>\n",
       "      <td>0.552517</td>\n",
       "      <td>0.362615</td>\n",
       "      <td>0.025717</td>\n",
       "      <td>0.032395</td>\n",
       "      <td>1.000000</td>\n",
       "      <td>0.011686</td>\n",
       "      <td>0.259478</td>\n",
       "      <td>-0.686745</td>\n",
       "      <td>0.016351</td>\n",
       "    </tr>\n",
       "    <tr>\n",
       "      <th>pH</th>\n",
       "      <td>-0.252700</td>\n",
       "      <td>0.261454</td>\n",
       "      <td>-0.329808</td>\n",
       "      <td>-0.267320</td>\n",
       "      <td>0.044708</td>\n",
       "      <td>-0.145854</td>\n",
       "      <td>-0.238413</td>\n",
       "      <td>0.011686</td>\n",
       "      <td>1.000000</td>\n",
       "      <td>0.192123</td>\n",
       "      <td>0.121248</td>\n",
       "      <td>0.020107</td>\n",
       "    </tr>\n",
       "    <tr>\n",
       "      <th>sulphates</th>\n",
       "      <td>0.299568</td>\n",
       "      <td>0.225984</td>\n",
       "      <td>0.056197</td>\n",
       "      <td>-0.185927</td>\n",
       "      <td>0.395593</td>\n",
       "      <td>-0.188457</td>\n",
       "      <td>-0.275727</td>\n",
       "      <td>0.259478</td>\n",
       "      <td>0.192123</td>\n",
       "      <td>1.000000</td>\n",
       "      <td>-0.003029</td>\n",
       "      <td>-0.034046</td>\n",
       "    </tr>\n",
       "    <tr>\n",
       "      <th>alcohol</th>\n",
       "      <td>-0.095452</td>\n",
       "      <td>-0.037640</td>\n",
       "      <td>-0.010493</td>\n",
       "      <td>-0.359415</td>\n",
       "      <td>-0.256916</td>\n",
       "      <td>-0.179838</td>\n",
       "      <td>-0.265740</td>\n",
       "      <td>-0.686745</td>\n",
       "      <td>0.121248</td>\n",
       "      <td>-0.003029</td>\n",
       "      <td>1.000000</td>\n",
       "      <td>-0.051141</td>\n",
       "    </tr>\n",
       "    <tr>\n",
       "      <th>Fraud</th>\n",
       "      <td>0.021794</td>\n",
       "      <td>0.151228</td>\n",
       "      <td>-0.061789</td>\n",
       "      <td>-0.048756</td>\n",
       "      <td>0.034499</td>\n",
       "      <td>-0.085204</td>\n",
       "      <td>-0.035252</td>\n",
       "      <td>0.016351</td>\n",
       "      <td>0.020107</td>\n",
       "      <td>-0.034046</td>\n",
       "      <td>-0.051141</td>\n",
       "      <td>1.000000</td>\n",
       "    </tr>\n",
       "  </tbody>\n",
       "</table>\n",
       "</div>"
      ],
      "text/plain": [
       "                      fixed acidity  volatile acidity  ...   alcohol     Fraud\n",
       "fixed acidity              1.000000          0.219008  ... -0.095452  0.021794\n",
       "volatile acidity           0.219008          1.000000  ... -0.037640  0.151228\n",
       "citric acid                0.324436         -0.377981  ... -0.010493 -0.061789\n",
       "residual sugar            -0.111981         -0.196011  ... -0.359415 -0.048756\n",
       "chlorides                  0.298195          0.377124  ... -0.256916  0.034499\n",
       "free sulfur dioxide       -0.282735         -0.352557  ... -0.179838 -0.085204\n",
       "total sulfur dioxide      -0.329054         -0.414476  ... -0.265740 -0.035252\n",
       "density                    0.458910          0.271296  ... -0.686745  0.016351\n",
       "pH                        -0.252700          0.261454  ...  0.121248  0.020107\n",
       "sulphates                  0.299568          0.225984  ... -0.003029 -0.034046\n",
       "alcohol                   -0.095452         -0.037640  ...  1.000000 -0.051141\n",
       "Fraud                      0.021794          0.151228  ... -0.051141  1.000000\n",
       "\n",
       "[12 rows x 12 columns]"
      ]
     },
     "execution_count": 11,
     "metadata": {
      "tags": []
     },
     "output_type": "execute_result"
    }
   ],
   "source": [
    "# obtain correlation matrix\n",
    "df_standard_corr = df.corr(method='pearson')\n",
    "#df_standard_corr = df.corr(method='pearson').round(4)\n",
    "df_standard_corr"
   ]
  },
  {
   "cell_type": "code",
   "execution_count": null,
   "metadata": {
    "colab": {
     "base_uri": "https://localhost:8080/"
    },
    "id": "CuGcilbN8plP",
    "outputId": "59d882a9-d384-4f07-8a3b-51eb40184754"
   },
   "outputs": [
    {
     "name": "stdout",
     "output_type": "stream",
     "text": [
      "Fraud column:\n",
      "fixed acidity           0.021794\n",
      "volatile acidity        0.151228\n",
      "citric acid            -0.061789\n",
      "residual sugar         -0.048756\n",
      "chlorides               0.034499\n",
      "free sulfur dioxide    -0.085204\n",
      "total sulfur dioxide   -0.035252\n",
      "density                 0.016351\n",
      "pH                      0.020107\n",
      "sulphates              -0.034046\n",
      "alcohol                -0.051141\n",
      "Fraud                   1.000000\n",
      "Name: Fraud, dtype: float64\n",
      "\n",
      "Features that impact the quality of wine from greatest to least importance\n",
      "based on the absolute values of the correlation coefficient of each features:\n",
      "volatile acidity        0.151228\n",
      "free sulfur dioxide     0.085204\n",
      "citric acid             0.061789\n",
      "alcohol                 0.051141\n",
      "residual sugar          0.048756\n",
      "total sulfur dioxide    0.035252\n",
      "chlorides               0.034499\n",
      "sulphates               0.034046\n",
      "fixed acidity           0.021794\n",
      "pH                      0.020107\n",
      "density                 0.016351\n",
      "Name: Fraud, dtype: float64\n",
      "\n",
      "Therefore, order of most important features that affect quality in order of\n",
      "greatest to least importance are:\n",
      "1. volatile acidity\n",
      "2. free sulfur dioxide\n",
      "3. citric acid\n",
      "4. alcohol\n",
      "5. residual sugar\n",
      "6. total sulfur dioxide\n",
      "7. chlorides\n",
      "8. sulphates\n",
      "9. fixed acidity\n",
      "10. pH\n",
      "11. density\n"
     ]
    }
   ],
   "source": [
    "# obtain coefficients for the Fraud column in ascedning order\n",
    "df_fraud_coefficients = df_standard_corr['Fraud']\n",
    "print('Fraud column:\\n',\n",
    "      df_fraud_coefficients,'\\n',\n",
    "      sep='')\n",
    "\n",
    "# convert coefficients to absolute values, then sort in descending order, then extract all features execpt 'Fraud'\n",
    "df_fraud_abs_coefficients_descending = df_fraud_coefficients.abs().sort_values(ascending=False).drop('Fraud')\n",
    "\n",
    "print('Features that impact the quality of wine from greatest to least importance\\n'\n",
    "      'based on the absolute values of the correlation coefficient of each features:\\n',\n",
    "      df_fraud_abs_coefficients_descending,'\\n',\n",
    "      sep='')\n",
    "\n",
    "print('Therefore, order of most important features that affect quality in order of\\n',\n",
    "      'greatest to least importance are:', sep='')\n",
    "for i in range(0, len(df_fraud_abs_coefficients_descending.index)):\n",
    "  print(str(i+1), '. ', df_fraud_abs_coefficients_descending.index[i], sep='')"
   ]
  },
  {
   "cell_type": "markdown",
   "metadata": {
    "id": "zB2S0kjlSHZt"
   },
   "source": [
    "The first block of code uses the 'pearson' method of determining the coefficient of correleation between features. The 'pearson' method evalutes the standard coefficient of correlation, also known as the 'R' value in the field of linear regression.\n",
    "\n",
    "The second block of code arranges the coefficients in descending order in terms of their absolute value, thus three most important features in descending order are: **volatile acidity, free sulfur dioxide and citric acid**.\n",
    "\n"
   ]
  },
  {
   "cell_type": "markdown",
   "metadata": {
    "id": "o65UK2kNrbBD"
   },
   "source": [
    "----\n",
    "## Machine Learning Model: Complete the Question 6-Question 12"
   ]
  },
  {
   "cell_type": "markdown",
   "metadata": {
    "id": "kvzy-_UBrbBD"
   },
   "source": [
    "\n",
    "**Now, we convert the categorical variables in the column \"type\" from the strings \"red\" or \"white\" to dummy variables:**\n",
    "\n",
    "A dummy variable is one that takes only the value 0 or 1 to indicate the absence or presence of some categorical effect."
   ]
  },
  {
   "cell_type": "code",
   "execution_count": null,
   "metadata": {
    "id": "785BtXGOrbBD"
   },
   "outputs": [],
   "source": [
    "df['type'] = pd.get_dummies(df['type'],drop_first=True)"
   ]
  },
  {
   "cell_type": "code",
   "execution_count": null,
   "metadata": {
    "id": "PzR3Y256rbBE"
   },
   "outputs": [],
   "source": [
    "df = df.drop('Fraud',axis=1)"
   ]
  },
  {
   "cell_type": "markdown",
   "metadata": {
    "id": "gXoFLbP0rbBE"
   },
   "source": [
    "**Question 6:<br> Separate out the data into feature matrix $\\mathbf X$ (i.e., to drop the \"quality\" column) and target label $\\mathbf y$ (i.e., the \"quality\" column)**."
   ]
  },
  {
   "cell_type": "code",
   "execution_count": null,
   "metadata": {
    "colab": {
     "base_uri": "https://localhost:8080/"
    },
    "id": "K6069scSrbBE",
    "outputId": "7ac6721f-7261-408a-c44e-11f8ed481064"
   },
   "outputs": [
    {
     "name": "stdout",
     "output_type": "stream",
     "text": [
      "X:       fixed acidity  volatile acidity  citric acid  ...  sulphates  alcohol  type\n",
      "0               7.4              0.70         0.00  ...       0.56      9.4     0\n",
      "1               7.8              0.88         0.00  ...       0.68      9.8     0\n",
      "2               7.8              0.76         0.04  ...       0.65      9.8     0\n",
      "3              11.2              0.28         0.56  ...       0.58      9.8     0\n",
      "4               7.4              0.70         0.00  ...       0.56      9.4     0\n",
      "...             ...               ...          ...  ...        ...      ...   ...\n",
      "6492            6.2              0.21         0.29  ...       0.50     11.2     1\n",
      "6493            6.6              0.32         0.36  ...       0.46      9.6     1\n",
      "6494            6.5              0.24         0.19  ...       0.46      9.4     1\n",
      "6495            5.5              0.29         0.30  ...       0.38     12.8     1\n",
      "6496            6.0              0.21         0.38  ...       0.32     11.8     1\n",
      "\n",
      "[6497 rows x 12 columns] \n",
      " y: 0       Legit\n",
      "1       Legit\n",
      "2       Legit\n",
      "3       Legit\n",
      "4       Legit\n",
      "        ...  \n",
      "6492    Legit\n",
      "6493    Legit\n",
      "6494    Legit\n",
      "6495    Legit\n",
      "6496    Legit\n",
      "Name: quality, Length: 6497, dtype: object\n"
     ]
    }
   ],
   "source": [
    "#Zero = red | One = White\n",
    "X = df.drop('quality', axis = 1)\n",
    "y = df['quality']\n",
    "print(f'X: {X} \\n y: {y}')"
   ]
  },
  {
   "cell_type": "markdown",
   "metadata": {
    "id": "RUvZu2T_rbBF"
   },
   "source": [
    "**Question 7:<br> Perform a Train|Test split on the data, with a 10% test size.** \n",
    "\n",
    "Note: \n",
    "* Use `train_test_split` from the module `sklearn.model_selection`.\n",
    "* Set a random state of 101."
   ]
  },
  {
   "cell_type": "code",
   "execution_count": null,
   "metadata": {
    "id": "DGy66WQGrbBG"
   },
   "outputs": [],
   "source": [
    "from sklearn.model_selection import train_test_split\n",
    "X_train, X_test, y_train, y_test = train_test_split(X, y, test_size=0.1, random_state=101)"
   ]
  },
  {
   "cell_type": "markdown",
   "metadata": {
    "id": "rdbTsnbDrbBG"
   },
   "source": [
    "**Question 8:<br> Scale the X_train (feature matrix of training dataset) and X_test (feature matrix of test dataset).**\n",
    "\n",
    "**StandardScaler**: \n",
    "\n",
    "Standard Scaler transforms the data in such a manner that it has mean as 0 and standard deviation as 1. In short, it standardizes the data. It arranges the data in a standard normal distribution. It is more useful in classification than regression.\n",
    "\n",
    "Note:\n",
    "* Create an scaler instance using `StandardScaler()` from the module `sklearn.preprocessing`.\n",
    "* Documentation link: [sklearn.preprocessing.StandardScaler](https://scikit-learn.org/stable/modules/generated/sklearn.preprocessing.StandardScaler.html)\n",
    "* After creating a StandardScaler instance (with default parameters), use the method `fit_transform()` to scale the X_train; use the method `transform()` to scale the X_test."
   ]
  },
  {
   "cell_type": "code",
   "execution_count": null,
   "metadata": {
    "id": "WPKegWQSrbBH"
   },
   "outputs": [],
   "source": [
    "from sklearn.preprocessing import StandardScaler\n",
    "\n",
    "scaler  = StandardScaler()\n",
    "X_train_scaled = scaler.fit_transform(X_train)\n",
    "X_test_scaled = scaler.transform(X_test)\n"
   ]
  },
  {
   "cell_type": "markdown",
   "metadata": {
    "id": "5rHYGSRMrbBI"
   },
   "source": [
    "**Question 9:<br> Create an instance of a Support Vector Machine classifier.**\n",
    "\n",
    "Note:\n",
    "* Use Scikit-learn support vector machine classifier `SVC` from the module `sklearn.svm`.\n",
    "* Documentation link: [sklearn.svm.SVC](https://scikit-learn.org/stable/modules/generated/sklearn.svm.SVC.html).\n",
    "* We already know that the classes (or labels) are unbalanced. To deal with this issue, we can adjust weights inversely proportional to class frequencies in the input data **by setting the argument `class_weight` in the SVC( ) call**. Check out the sklearn.svm.SVC documentation and look up how to set the `class_weight` argument."
   ]
  },
  {
   "cell_type": "code",
   "execution_count": null,
   "metadata": {
    "id": "j6Q04tWsrbBI"
   },
   "outputs": [],
   "source": [
    "from sklearn.svm import SVC\n",
    "model = SVC(class_weight = 'balanced')"
   ]
  },
  {
   "cell_type": "markdown",
   "metadata": {
    "id": "FEAMl1k9rbBK"
   },
   "source": [
    "**Question 10:<br> Use a GridSearchCV to run a grid search to create a SVM model with the best C and gamma parameters.**\n",
    "\n",
    "Note:\n",
    "* Use `GridSearchCV` from the module `sklearn.model_selection`.\n",
    "* Documentation link: [sklearn.model_selection.GridSearchCV](https://scikit-learn.org/stable/modules/generated/sklearn.model_selection.GridSearchCV.html)\n",
    "* Create an instance of GridSearchCV, where the estimator object (i.e., the argument **`estimator`) should set to be the SVC model created in Question 9**, and the parameter grid (i.e., the argument `param_griddict`) is suggested to set as `'C':[0.001,0.01,0.1,0.5,1], 'gamma':['scale','auto']`.\n",
    "* Fit the training data to the models created by GridSearchCV. Make sure to use the **scaled** X_train (refer to Question 8) as the feature matrix for fitting.\n",
    "* After finishing the fitting process, access the attribute `best_params_` of the GridSearchCV, print out the best C and gamma parameters."
   ]
  },
  {
   "cell_type": "code",
   "execution_count": null,
   "metadata": {
    "colab": {
     "base_uri": "https://localhost:8080/"
    },
    "id": "Fe18ntiorbBK",
    "outputId": "5e8ff19c-6900-43bc-f564-8c2fe0af2693"
   },
   "outputs": [
    {
     "data": {
      "text/plain": [
       "{'C': 1, 'gamma': 'auto'}"
      ]
     },
     "execution_count": 19,
     "metadata": {
      "tags": []
     },
     "output_type": "execute_result"
    }
   ],
   "source": [
    "from sklearn.model_selection import GridSearchCV\n",
    "param_griddict = {'C':[0.001,0.01,0.1,0.5,1], 'gamma':['scale','auto']}\n",
    "grid = GridSearchCV(model,param_griddict)\n",
    "grid.fit(X_train_scaled, y_train)\n",
    "grid.best_params_"
   ]
  },
  {
   "cell_type": "code",
   "execution_count": null,
   "metadata": {
    "colab": {
     "base_uri": "https://localhost:8080/"
    },
    "id": "vEhrwBkM1z1S",
    "outputId": "0446de3e-ea7a-48e4-b1ea-c0db2313089e"
   },
   "outputs": [
    {
     "name": "stdout",
     "output_type": "stream",
     "text": [
      "Therefore the best parameters for C and gamma, based on the hyperparameter used, are 1 and auto respectively.\n"
     ]
    }
   ],
   "source": [
    "print(f'Therefore the best parameters for C and gamma, based on the hyperparameter used, are 1 and ''auto'' respectively.')"
   ]
  },
  {
   "cell_type": "markdown",
   "metadata": {
    "id": "6oKj-nVtrbBL"
   },
   "source": [
    "**Question 11:<br> Display the confusion matrix and classification report for your model.**\n",
    "\n",
    "Note:\n",
    "* Use `confusion_matrix`, `classification_report` from the module `sklearn.metrics`.\n",
    "* After the grid search process of Question 10, you have a SVM model with the best C and gamma parameters. Use the fitting model to make predictions over the test dataset. Make sure to use the **scaled** X_test (refer Question 8).\n",
    "* Once you have the predictions over the test dataset, you can call the function `confusion_matrix( )` to obtain the confusion matrix. Documentation link: [confusion_matrix( )](https://scikit-learn.org/stable/modules/generated/sklearn.metrics.confusion_matrix.html)\n",
    "* Then you can display the classification report by calling the function `classification_report( )`. Documentation link: [classification_report( )](https://scikit-learn.org/stable/modules/generated/sklearn.metrics.classification_report.html)"
   ]
  },
  {
   "cell_type": "code",
   "execution_count": null,
   "metadata": {
    "colab": {
     "base_uri": "https://localhost:8080/"
    },
    "id": "zj43mNuJrbBM",
    "outputId": "ff981003-a119-43cd-a391-e4e33e628a8e"
   },
   "outputs": [
    {
     "data": {
      "text/plain": [
       "array([[ 17,  10],\n",
       "       [ 92, 531]])"
      ]
     },
     "execution_count": 20,
     "metadata": {
      "tags": []
     },
     "output_type": "execute_result"
    }
   ],
   "source": [
    "optimised_model = SVC(C= 1, gamma= 'auto', class_weight = 'balanced')\n",
    "optimised_model.fit(X_train_scaled,y_train)\n",
    "optimised_preds = optimised_model.predict(X_test_scaled)\n",
    "from sklearn.metrics import confusion_matrix,classification_report\n",
    "confusion_matrix(y_test,optimised_preds)"
   ]
  },
  {
   "cell_type": "code",
   "execution_count": null,
   "metadata": {
    "colab": {
     "base_uri": "https://localhost:8080/"
    },
    "id": "5F29dCp9QUDu",
    "outputId": "a818ac26-c507-41f7-a9ee-3b71b876b8e6"
   },
   "outputs": [
    {
     "name": "stdout",
     "output_type": "stream",
     "text": [
      "              Pred fraud   Pred legit\n",
      "Actual fraud          17             10\n",
      "Actual legit          92            531 \n",
      "\n",
      "tn = 17, fp = 10, fn = 92, tp = 531\n"
     ]
    }
   ],
   "source": [
    "tn, fp, fn, tp = confusion_matrix(y_test,optimised_preds).ravel()\n",
    "print('''              Pred fraud   Pred legit\n",
    "Actual fraud          17             10\n",
    "Actual legit          92            531 \n",
    "''')\n",
    "\n",
    "print(f\"tn = {tn}, fp = {fp}, fn = {fn}, tp = {tp}\")"
   ]
  },
  {
   "cell_type": "code",
   "execution_count": null,
   "metadata": {
    "colab": {
     "base_uri": "https://localhost:8080/"
    },
    "id": "lPpms6TprbBN",
    "outputId": "e2bcbec1-f5cb-4562-a880-a47dcbd5a301"
   },
   "outputs": [
    {
     "name": "stdout",
     "output_type": "stream",
     "text": [
      "              precision    recall  f1-score   support\n",
      "\n",
      "       Fraud       0.16      0.63      0.25        27\n",
      "       Legit       0.98      0.85      0.91       623\n",
      "\n",
      "    accuracy                           0.84       650\n",
      "   macro avg       0.57      0.74      0.58       650\n",
      "weighted avg       0.95      0.84      0.88       650\n",
      "\n"
     ]
    }
   ],
   "source": [
    "print(classification_report(y_test, optimised_preds))"
   ]
  },
  {
   "cell_type": "markdown",
   "metadata": {
    "id": "6FlyawgmrbBO"
   },
   "source": [
    "**Question 12:<br> Finally, discuss about how well this model has performed. Would you suggest?**"
   ]
  },
  {
   "cell_type": "markdown",
   "metadata": {
    "id": "u2fal_xoSVJ3"
   },
   "source": [
    "Based on our confusion matrix, the model often predicts that a legitimate wine is actually legit. However, the model does not often predict that fraud wine is actually fraud.\n",
    "\n",
    "**Analysis on Quality of Data and Correlated Features**\n",
    "\n",
    "It was found that the labels for wine quality were fraud and legit. The frequency of these target labels were also found to be unbalanced according to Support results in the classification matrix. The Fraud support was much smaller compared to Legit support, in which these supports represented 10% of the entire data set. This made sense considering the histograms that were produced to compare the frequency of each label showed this trend as well.\n",
    "\n",
    "Since most of the wine types in the data sample are legit wines,  the model was able to train on these samples and predict legit wines more accurately. Despite setting class weights to 'balanced' when creating our model to make more significant correction to the target label with fewer occurrences, the amount of fraud wine in the given data sample was still too low for the model to be trained well to make accurate predictions. \n",
    "\n",
    "Furthermore, based on the correlation coefficients evaluated in the correlation matrix, it was found that the features did not have very strong correlations to whether the wine was actually fraud. For example, based on the correlation matrix, the feature with the strongest correlation is much less than one (volatile acidity having a correlation coefficient of 0.15). This means that regardless of the features used to predict the quality of wine, it was difficult for the model to distinguish between fraud and legit wines using the given features.\n",
    "\n",
    "**Evaluating Precision**\n",
    "\n",
    "If this were to be used in practice, when our model predicts fraud, there is a higher chance that the wine is actually legit than actually fraud. This is reflected by a low precision for fraud in our classification report.\n",
    "\n",
    "Conversely, when our model predicts legit, there is a higher chance that the wine is actually legit than actually fraud. This is reflected by a high precision for legit in our classification report.\n",
    "\n",
    "**Evaulating Recall Scores**\n",
    "\n",
    "Additionally, if our wine is actually fraud, there is a slightly higher change that it will predict it as fraud than legit. This is reflected in the classification report with a fraud recall of 0.63, meaning it does not provide confident predictions when we want the model to predict on fraud wines.\n",
    "\n",
    "However, if our wine is actually legit, there is a significantly higher chance that it will predict it as legit. This is reflected in the classification report with a Legit recall of 0.85, meaning it does provide confident predictions when we want the model to predict on legit wines.\n",
    "\n",
    "**Evaluating F1-Score**\n",
    "\n",
    "An F1-score is a measure of a model's prediction accuracy on true target values. When considering the F1-score, it is important to be familiar with precision and recall. Precision is the fraction of relevant instances against the actual results, whereas recall is the fraction of relevant instances against the predicted results. The model reaches its best F1-score at 1 and worst score at 0. A F1-score of 1 means recall and precision are equally important. In our classification matrix, our fraud samples have an F1-score of 0.25 and our legit samples have an F1-score of 0.91. This makes sense considering the results from the confusion matrix. In the case of the fraud samples, only 17 values were correctly predicted to be fraud, whereas there were 92 cases where legit was incorrectly classified as fraud. On the other hand, in the case of the legit samples, only 10 cases were incorrectly predicted to be legit and should have been classified as fraud, and 531 cases were correctly predicted to be legit. This relates back to the F1-score as it demonstrates that correct legit predictions occurred as often as the frequency of true legit values and fraud predictions do not due to the small F1-score.\n",
    "\n",
    "**Conclusion and Recommendation**\n",
    "\n",
    "In conclusion, this model is not effective at identifying fraud wines. Since regardless of whether the model predicts fraud or legit, there is a greater chance that the wine is actually legit based on the precision results. Also, even if we make the model predict on fraud wine, the prediction results are not confident based on the recall results.\n",
    "\n",
    "Therefore, we would not recommend this model to be used for the company at its current state. Other tunings of the SVM hyperparameters should be investigated as well. Other machine learning models should be investigated instead for this binary classification problem, such as decision trees, naive beyes theorem, and logistic regression after disretising the random variables (features). Finding a way to increase the number of samples for fraudulent wine so the model would have more samples to train and improve its ability to identify fraud wines.\n",
    "\n"
   ]
  }
 ],
 "metadata": {
  "anaconda-cloud": {},
  "colab": {
   "collapsed_sections": [],
   "name": "SVM-Group-Project(Student) - after Sam and Ed.ipynb",
   "provenance": [],
   "toc_visible": true
  },
  "kernelspec": {
   "display_name": "Python 3",
   "language": "python",
   "name": "python3"
  },
  "language_info": {
   "codemirror_mode": {
    "name": "ipython",
    "version": 3
   },
   "file_extension": ".py",
   "mimetype": "text/x-python",
   "name": "python",
   "nbconvert_exporter": "python",
   "pygments_lexer": "ipython3",
   "version": "3.8.8"
  },
  "toc": {
   "base_numbering": 1,
   "nav_menu": {},
   "number_sections": true,
   "sideBar": true,
   "skip_h1_title": false,
   "title_cell": "Table of Contents",
   "title_sidebar": "Contents",
   "toc_cell": false,
   "toc_position": {},
   "toc_section_display": true,
   "toc_window_display": false
  }
 },
 "nbformat": 4,
 "nbformat_minor": 1
}
